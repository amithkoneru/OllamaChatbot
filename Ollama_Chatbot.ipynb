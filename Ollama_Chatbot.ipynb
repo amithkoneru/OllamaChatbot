{
 "cells": [
  {
   "cell_type": "code",
   "execution_count": 37,
   "metadata": {
    "id": "BFcR3p58gZR7"
   },
   "outputs": [],
   "source": [
    "import requests\n",
    "import json\n",
    "import sys\n",
    "import os\n",
    "import time\n",
    "import gradio as gr\n",
    "from dotenv import load_dotenv\n",
    "\n",
    "\n",
    "load_dotenv()\n",
    "OLLAMA_HOST = os.getenv(\"OLLAMA_HOST\")\n",
    "\n",
    "CHAT_ENDPOINT = f\"{OLLAMA_HOST}/api/chat\"\n",
    "TAGS_ENDPOINT = f\"{OLLAMA_HOST}/api/tags\""
   ]
  },
  {
   "cell_type": "code",
   "execution_count": 38,
   "metadata": {},
   "outputs": [],
   "source": [
    "def find_llms():\n",
    "    response = requests.get(TAGS_ENDPOINT)\n",
    "    response_json = response.json()\n",
    "    llm_list = {}\n",
    "    count = 1\n",
    "    try:\n",
    "        for model in response_json[\"models\"]:\n",
    "            llm_list[count] = model[\"name\"]\n",
    "            count += 1\n",
    "    except:\n",
    "        sys.exit(\"No models found\")\n",
    "    return llm_list\n",
    "    "
   ]
  },
  {
   "cell_type": "code",
   "execution_count": 39,
   "metadata": {
    "id": "CCfz-iv3hZPl"
   },
   "outputs": [],
   "source": [
    "def query_llm(prompt, model_name):\n",
    "  payload =   {\n",
    "      \"model\": model_name,\n",
    "      \"messages\": [\n",
    "          {\"role\": \"user\",\n",
    "          \"content\": prompt\n",
    "          }\n",
    "      ],\n",
    "      \"stream\": False\n",
    "  }\n",
    "\n",
    "  response = requests.post(CHAT_ENDPOINT, json=payload)\n",
    "\n",
    "  response_json = json.loads(response.text)\n",
    "\n",
    "  tokens_per_second = (response_json[\"eval_count\"] / response_json[\"eval_duration\"]) * 10**9\n",
    "\n",
    "  llm_reply = response_json[\"message\"][\"content\"]\n",
    "\n",
    "  return llm_reply, tokens_per_second"
   ]
  },
  {
   "cell_type": "code",
   "execution_count": 40,
   "metadata": {},
   "outputs": [],
   "source": [
    "# Text-Based Chatbot\n",
    "\n",
    "def chatbot():\n",
    "    prompt_list = []\n",
    "    prompt = \"\"\n",
    "    while(True):\n",
    "        print(\"\\nHello! I am your personal assistant! I am here to answer your prompt.\")\n",
    "        user_input = input(\"\\nEnter your prompt or 'exit' to quit: \")\n",
    "        if user_input == \"exit\":\n",
    "            break\n",
    "        else:\n",
    "            user_prompt = user_input\n",
    "            prompt_list.append(\"User: \")\n",
    "            prompt_list.append(user_prompt)\n",
    "            \n",
    "            prompt = \" \".join(prompt_list)\n",
    "            \n",
    "            llm_list = find_llms()\n",
    "    \n",
    "            print(\"\\nAvailable Models:\\n\")\n",
    "            for num, model in llm_list.items():\n",
    "                print(f\" {num}: {model}\")\n",
    "    \n",
    "            print(\"\\nChoose which model you would like to answer your prompt:\\n\")   \n",
    "    \n",
    "            model_choice = int(input(\"Enter a model number: \"))\n",
    "            if model_choice not in (list(llm_list.keys())):\n",
    "                print(\"Invalid model choice. Restart the chatbot to continue.\")\n",
    "                continue\n",
    "    \n",
    "            model_name = llm_list[model_choice]\n",
    "            response_llm, tokens_per_second = query_llm(prompt, model_name)\n",
    "            prompt_list.append(\"Response: \")\n",
    "            prompt_list.append(response_llm)\n",
    "            prompt = \" \".join(prompt_list)\n",
    "            print(\"\\n\")\n",
    "            print(model_name, \": \", response_llm)\n",
    "            print(\"\\n\")\n",
    "            print(f\"Tokens Per Second: {tokens_per_second:.2f}\")\n",
    "            user_input = input(\"\\nContinue Conversation (y/n)?: \")\n",
    "            if user_input == 'y':\n",
    "                print(prompt)\n",
    "                continue\n",
    "            elif user_input == 'n':\n",
    "                prompt_list = []\n",
    "                prompt = \"\"\n",
    "                count = 1\n",
    "                continue\n",
    "\n",
    "\n"
   ]
  },
  {
   "cell_type": "code",
   "execution_count": 41,
   "metadata": {},
   "outputs": [],
   "source": [
    "def respond(user_input, history, model_name):\n",
    "    context = \"\\n\".join([f\"User: {u}\\nAssistant: {a}\" for u, a in history])\n",
    "    prompt = f\"{context}\\nUser: {user_input}\\nAssistant:\"\n",
    "    # Testing Context\n",
    "    # print(f\"Context: {context} \\n\")\n",
    "    # print(f\"Prompt: {prompt} \\n\")\n",
    "    # print(\"<--------------------------------------->\")\n",
    "\n",
    "    response_llm, tokens_per_second = query_llm(prompt, model_name)\n",
    "    combined_response= f\"{response_llm}\\n\\n_({tokens_per_second:.2f} tokens/sec)_\"\n",
    "    for i in range(len(combined_response)):\n",
    "        time.sleep(0.01)\n",
    "        yield combined_response[: i + 1]\n"
   ]
  },
  {
   "cell_type": "code",
   "execution_count": 42,
   "metadata": {},
   "outputs": [
    {
     "name": "stderr",
     "output_type": "stream",
     "text": [
      "/opt/anaconda3/lib/python3.13/site-packages/gradio/chat_interface.py:348: UserWarning: The 'tuples' format for chatbot messages is deprecated and will be removed in a future version of Gradio. Please set type='messages' instead, which uses openai-style 'role' and 'content' keys.\n",
      "  self.chatbot = Chatbot(\n"
     ]
    },
    {
     "name": "stdout",
     "output_type": "stream",
     "text": [
      "* Running on local URL:  http://127.0.0.1:7874\n",
      "* To create a public link, set `share=True` in `launch()`.\n"
     ]
    },
    {
     "data": {
      "text/html": [
       "<div><iframe src=\"http://127.0.0.1:7874/\" width=\"100%\" height=\"500\" allow=\"autoplay; camera; microphone; clipboard-read; clipboard-write;\" frameborder=\"0\" allowfullscreen></iframe></div>"
      ],
      "text/plain": [
       "<IPython.core.display.HTML object>"
      ]
     },
     "metadata": {},
     "output_type": "display_data"
    }
   ],
   "source": [
    "# Chat Interface\n",
    "\n",
    "llm_list = find_llms()\n",
    "with gr.Blocks(title=\"AmithGPT\", theme='soft') as ui:\n",
    "    # gr.Markdown(\"## Hello! I am your personal assistant! I am here to answer your prompt.\")\n",
    "    # user_input = gr.Textbox(label=\"Prompt\", placeholder=\"e.g., write me a 100 word fantasy story\")\n",
    "    # model_selection = gr.Dropdown(choices=llm_list.values(), label=\"Model\")\n",
    "    # submit_btn = gr.Button(\"Submit\")\n",
    "    # llm_output = gr.Textbox(label=\"Response\", placeholder=\"llm reply here\", interactive=False)\n",
    "    # tkns_per_second = gr.Textbox(label=\"Tokens Per Second\", interactive=False)\n",
    "\n",
    "    # submit_btn.click(respond, inputs=[user_input, model_selection], outputs=[llm_output, tkns_per_second])\n",
    "\n",
    "    model_selection = gr.Dropdown(choices=llm_list.values(), label=\"Model\")\n",
    "    chat = gr.ChatInterface(title=\"AmithGPT\", fn=respond,autofocus=False, additional_inputs=model_selection, description=\"What can I help with today?\")\n",
    "     \n",
    "\n",
    "# demo = gr.Interface(\n",
    "#     fn = respond,\n",
    "#     inputs = [\"text\", \"number\"],\n",
    "#     outputs=[\"text\", \"text\"],\n",
    "# )\n",
    "\n",
    "if __name__ == \"__main__\":\n",
    "    ui.launch()\n",
    "\n"
   ]
  }
 ],
 "metadata": {
  "colab": {
   "provenance": []
  },
  "kernelspec": {
   "display_name": "base",
   "language": "python",
   "name": "python3"
  },
  "language_info": {
   "codemirror_mode": {
    "name": "ipython",
    "version": 3
   },
   "file_extension": ".py",
   "mimetype": "text/x-python",
   "name": "python",
   "nbconvert_exporter": "python",
   "pygments_lexer": "ipython3",
   "version": "3.13.5"
  }
 },
 "nbformat": 4,
 "nbformat_minor": 4
}
